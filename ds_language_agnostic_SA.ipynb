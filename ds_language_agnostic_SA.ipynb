{
  "nbformat": 4,
  "nbformat_minor": 0,
  "metadata": {
    "colab": {
      "name": "ds_language_agnostic_SA.ipynb",
      "version": "0.3.2",
      "provenance": [],
      "collapsed_sections": [],
      "toc_visible": true
    },
    "kernelspec": {
      "name": "python3",
      "display_name": "Python 3"
    },
    "accelerator": "GPU"
  },
  "cells": [
    {
      "cell_type": "markdown",
      "metadata": {
        "id": "Qmuy94E02Agt",
        "colab_type": "text"
      },
      "source": [
        "# Language agnostic sentiment analysis using mean embedding vectors.\n",
        "Given a comment in any language, the polarity of the sentiment expressed is determined as follows:\n",
        "\n",
        "1.   The given comment is translated into english.\n",
        "2.   Each word in the translated comment is represented by a d-dimensionsal embedding vector.\n",
        "1.   The mean of the embedding vectors of relevant words in the comment is computed.\n",
        "2.   The mean embedding vector is used to as input to a pre-trained classifier to determine the sentiment polarity expressed by the comment.\n",
        "\n",
        "\n",
        "\n"
      ]
    },
    {
      "cell_type": "markdown",
      "metadata": {
        "id": "SDHIqe8D2gt5",
        "colab_type": "text"
      },
      "source": [
        "## Import useful libraries"
      ]
    },
    {
      "cell_type": "code",
      "metadata": {
        "id": "1NWvg7j02o8O",
        "colab_type": "code",
        "outputId": "0e775096-8bcc-43ff-8550-6a046fd67e14",
        "colab": {
          "base_uri": "https://localhost:8080/",
          "height": 238
        }
      },
      "source": [
        "! pip install googletrans\n",
        "import pandas as pd # for data handling\n",
        "import numpy as np # for linear algebra\n",
        "import matplotlib.pyplot as plt # for plotting\n",
        "from googletrans import Translator # for translation\n",
        "from gensim.models import KeyedVectors # for pre-trained embedding\n",
        "import tensorflow as tf # for neural network classifier\n",
        "from sklearn.manifold import TSNE # to display comments in 2D plot"
      ],
      "execution_count": 2,
      "outputs": [
        {
          "output_type": "stream",
          "text": [
            "Collecting googletrans\n",
            "  Downloading https://files.pythonhosted.org/packages/fd/f0/a22d41d3846d1f46a4f20086141e0428ccc9c6d644aacbfd30990cf46886/googletrans-2.4.0.tar.gz\n",
            "Requirement already satisfied: requests in /usr/local/lib/python3.6/dist-packages (from googletrans) (2.21.0)\n",
            "Requirement already satisfied: chardet<3.1.0,>=3.0.2 in /usr/local/lib/python3.6/dist-packages (from requests->googletrans) (3.0.4)\n",
            "Requirement already satisfied: certifi>=2017.4.17 in /usr/local/lib/python3.6/dist-packages (from requests->googletrans) (2019.3.9)\n",
            "Requirement already satisfied: urllib3<1.25,>=1.21.1 in /usr/local/lib/python3.6/dist-packages (from requests->googletrans) (1.24.3)\n",
            "Requirement already satisfied: idna<2.9,>=2.5 in /usr/local/lib/python3.6/dist-packages (from requests->googletrans) (2.8)\n",
            "Building wheels for collected packages: googletrans\n",
            "  Building wheel for googletrans (setup.py) ... \u001b[?25l\u001b[?25hdone\n",
            "  Stored in directory: /root/.cache/pip/wheels/50/d6/e7/a8efd5f2427d5eb258070048718fa56ee5ac57fd6f53505f95\n",
            "Successfully built googletrans\n",
            "Installing collected packages: googletrans\n",
            "Successfully installed googletrans-2.4.0\n"
          ],
          "name": "stdout"
        }
      ]
    },
    {
      "cell_type": "markdown",
      "metadata": {
        "id": "gfXI6PvM20ph",
        "colab_type": "text"
      },
      "source": [
        "## Define function for translating comments"
      ]
    },
    {
      "cell_type": "code",
      "metadata": {
        "id": "EM1D151i3A4C",
        "colab_type": "code",
        "colab": {}
      },
      "source": [
        "# We use google traslator\n",
        "translator = Translator()\n",
        "def translate(comment):\n",
        "  \"\"\"returns comment translated into english\"\"\"\n",
        "  return translator.translate(comment).text"
      ],
      "execution_count": 0,
      "outputs": []
    },
    {
      "cell_type": "markdown",
      "metadata": {
        "id": "J54NiBPDfTB0",
        "colab_type": "text"
      },
      "source": [
        "Test the translator"
      ]
    },
    {
      "cell_type": "code",
      "metadata": {
        "id": "bVoGmOnKfaUC",
        "colab_type": "code",
        "colab": {
          "base_uri": "https://localhost:8080/",
          "height": 68
        },
        "outputId": "1e4f0fb8-fda7-4486-961c-a1ffe34f32ca"
      },
      "source": [
        "comment = input(\"Type in a comment in any language: \")\n",
        "print(\"\\nDid you say: \\'%s\\'?\" %(translate(comment)))"
      ],
      "execution_count": 4,
      "outputs": [
        {
          "output_type": "stream",
          "text": [
            "Type in a comment in any language: গত রাতের সিনেমাটি আমার ভালো লেগেছে\n",
            "\n",
            "Did you say: 'I liked the movie last night'?\n"
          ],
          "name": "stdout"
        }
      ]
    },
    {
      "cell_type": "markdown",
      "metadata": {
        "id": "989nDi-o4PKc",
        "colab_type": "text"
      },
      "source": [
        "## Load pre-trained word2vec model for embedding"
      ]
    },
    {
      "cell_type": "code",
      "metadata": {
        "id": "VP7C9s6n4gGR",
        "colab_type": "code",
        "outputId": "78a0ab99-e105-4185-86cd-e050f89aaaae",
        "colab": {
          "base_uri": "https://localhost:8080/",
          "height": 292
        }
      },
      "source": [
        "# Retrieve embedding file using wget\n",
        "# use this if embedding file is not available locally\n",
        "URL = \"https://s3.amazonaws.com/dl4j-distribution/\" # source url\n",
        "FILE = \"GoogleNews-vectors-negative300.bin.gz\" # source file name\n",
        "SOURCE = URL+FILE # source for embedding file\n",
        "DIR = \"/root/input/\" # directory\n",
        "! wget -P \"$DIR\" -c \"$SOURCE\" # retrieve embedding file\n",
        "\n",
        "# Load pre-trained word2vec model from embedding file\n",
        "EMBEDDING_FILE = DIR + FILE \n",
        "word2vec = KeyedVectors.load_word2vec_format(EMBEDDING_FILE, binary=True)\n",
        "\n",
        "# Define vocabulary and embedding_size\n",
        "vocabulary = set(word2vec.index2word) # set of words in vocabulary\n",
        "embedding_size = word2vec.vector_size # dimension of word vector\n",
        "print(\"\\nModel contains %d words\" %len(vocabulary))\n",
        "print(\"Each word is represented by a %d dimensional vector\" %embedding_size)"
      ],
      "execution_count": 5,
      "outputs": [
        {
          "output_type": "stream",
          "text": [
            "--2019-06-10 13:06:06--  https://s3.amazonaws.com/dl4j-distribution/GoogleNews-vectors-negative300.bin.gz\n",
            "Resolving s3.amazonaws.com (s3.amazonaws.com)... 52.216.110.5\n",
            "Connecting to s3.amazonaws.com (s3.amazonaws.com)|52.216.110.5|:443... connected.\n",
            "HTTP request sent, awaiting response... 200 OK\n",
            "Length: 1647046227 (1.5G) [application/x-gzip]\n",
            "Saving to: ‘/root/input/GoogleNews-vectors-negative300.bin.gz’\n",
            "\n",
            "GoogleNews-vectors- 100%[===================>]   1.53G  35.6MB/s    in 45s     \n",
            "\n",
            "2019-06-10 13:06:52 (34.7 MB/s) - ‘/root/input/GoogleNews-vectors-negative300.bin.gz’ saved [1647046227/1647046227]\n",
            "\n"
          ],
          "name": "stdout"
        },
        {
          "output_type": "stream",
          "text": [
            "/usr/local/lib/python3.6/dist-packages/smart_open/smart_open_lib.py:398: UserWarning: This function is deprecated, use smart_open.open instead. See the migration notes for details: https://github.com/RaRe-Technologies/smart_open/blob/master/README.rst#migrating-to-the-new-open-function\n",
            "  'See the migration notes for details: %s' % _MIGRATION_NOTES_URL\n"
          ],
          "name": "stderr"
        },
        {
          "output_type": "stream",
          "text": [
            "Model contains 3000000 words\n",
            "Each word is represented by a 300 dimensional vector\n"
          ],
          "name": "stdout"
        }
      ]
    },
    {
      "cell_type": "markdown",
      "metadata": {
        "id": "vq6OZk1IpLgF",
        "colab_type": "text"
      },
      "source": [
        "Examine embedding vectors of words"
      ]
    },
    {
      "cell_type": "code",
      "metadata": {
        "id": "Dd4bKPc6mlYT",
        "colab_type": "code",
        "outputId": "a61fe8f7-c110-4f5c-e79e-d6a2eb5b09ce",
        "colab": {
          "base_uri": "https://localhost:8080/",
          "height": 122
        }
      },
      "source": [
        "word = input(\"Type in a word:\")\n",
        "print()\n",
        "if word not in vocabulary:\n",
        "  print(\"\\The word \\'%s\\' is not in the volcabulary\" %word)\n",
        "else:\n",
        "  print(\"\\'%s\\' is respresented by the %d dimensional embedding vector:\\n\"\n",
        "       %(word, embedding_size))\n",
        "  print(', '.join([str(v)[:5] for v in word2vec[word.lower()].tolist()]))"
      ],
      "execution_count": 6,
      "outputs": [
        {
          "output_type": "stream",
          "text": [
            "Type in a word:supercalifragilisticexpialidocious\n",
            "\n",
            "'supercalifragilisticexpialidocious' is respresented by the 300 dimensional embedding vector:\n",
            "\n",
            "-0.07, -0.16, 0.053, 0.036, -0.09, -0.06, -0.00, 0.220, -0.04, 0.086, 0.100, -0.21, -0.00, 0.044, -0.18, 0.289, 0.155, 0.011, 0.048, -0.08, -0.19, 0.138, 0.087, -0.10, 0.079, -0.13, -0.15, 0.095, 0.166, 0.049, -0.15, 0.119, -0.17, 0.281, 0.053, -0.00, 0.201, 0.184, 0.018, 0.212, 0.157, -0.03, 0.137, 0.092, 0.208, 0.002, -0.04, 0.017, 0.110, 0.048, -0.37, 0.093, 0.105, 0.343, 0.205, 0.186, -0.08, -0.25, -0.17, 0.043, 0.113, 0.221, 0.023, -0.01, 0.000, -0.02, -0.16, 0.011, 0.000, 0.176, 0.178, 0.066, 0.085, -0.02, -0.07, 0.065, 0.009, 0.014, 0.235, 0.143, -0.10, -0.15, -0.11, -0.05, 0.057, 0.275, -0.10, 0.101, 0.069, 0.100, -0.21, 0.143, -0.14, -0.06, -0.11, 0.046, -0.06, -0.02, -0.12, -0.06, -0.23, 0.064, 0.196, 0.038, -0.10, -0.04, 0.013, -0.05, 0.201, 0.021, -0.12, 0.151, 0.051, -0.01, 0.069, 0.142, -0.05, -0.08, 0.062, -0.21, -0.09, -0.20, -0.17, -0.04, 0.138, 0.110, -0.06, -0.12, -0.19, -0.09, -0.20, -0.06, 0.063, 0.033, -0.22, 0.129, -0.10, -0.20, -0.00, 0.066, 0.162, -0.07, -0.11, -0.09, 0.238, -0.00, -0.04, 0.038, 0.036, -0.05, -0.09, -0.12, 0.015, -0.06, 0.000, -0.29, -0.04, 0.124, -0.13, 0.080, -0.00, 0.218, 0.170, -0.00, 0.111, -0.27, 0.030, -0.05, -0.26, -0.14, -0.02, 0.096, -0.15, -0.09, -0.17, -0.02, -0.02, -0.13, 0.137, -0.07, -0.12, 0.116, -0.04, -0.02, -0.00, 0.221, -0.02, -0.00, -0.00, 0.154, -0.06, -0.00, -0.06, -0.04, 0.033, 0.081, -0.09, -0.25, -0.17, -0.23, 0.277, -0.13, -0.07, 0.175, 0.035, 0.084, 0.062, 0.068, -0.01, 0.129, -0.01, -0.06, 0.039, -0.16, -0.06, -0.17, 0.136, 0.135, -0.24, -0.04, 0.082, 0.040, 0.066, -0.08, 0.114, 0.072, 0.045, -0.19, -0.19, -0.18, -0.12, -0.13, -0.14, 0.025, 0.007, 0.139, 0.128, -0.10, 0.215, -0.09, 0.005, -0.04, 0.083, -0.02, 0.185, 0.089, 0.037, 0.164, -0.05, -0.04, -0.15, 0.117, -0.00, 0.171, -0.00, -0.09, -0.27, -0.08, -0.08, -0.31, -0.03, 0.269, -0.10, -0.17, -0.14, -0.01, 0.095, 0.001, -0.05, -0.15, -0.02, 0.312, 0.099, 0.189, 0.248, -0.00, -0.08, -0.08, -0.03, 0.125, -0.09, -0.01, -0.19, -0.10, 0.182, 0.004, -0.04, -0.13, -0.15, 0.017, 0.031, 0.062, -0.26, -0.26, 0.123, -0.04, 0.180, 0.060, -0.26, 0.045\n"
          ],
          "name": "stdout"
        }
      ]
    },
    {
      "cell_type": "markdown",
      "metadata": {
        "id": "GppgqgvZeuyW",
        "colab_type": "text"
      },
      "source": [
        "Plot some words in 2D to see if similar words are clustered togeter "
      ]
    },
    {
      "cell_type": "code",
      "metadata": {
        "id": "NlNc3ubye-Zv",
        "colab_type": "code",
        "colab": {}
      },
      "source": [
        "def displaySentimentPlot(labels, sentiments, vectors):\n",
        "  \n",
        "  colors = ['g' if s=='POSITIVE' else 'r' for s in sentiments]\n",
        "  tsne = TSNE(n_components=2, perplexity=5, random_state=100)\n",
        "  Y = tsne.fit_transform(vectors)\n",
        "  x_coords = Y[:, 0]\n",
        "  y_coords = Y[:, 1]\n",
        "  \n",
        "  \n",
        "  # display scatter plot\n",
        "  plt.figure(figsize=(5,5))\n",
        "  plt.scatter(x_coords, y_coords, c=colors)\n",
        "\n",
        "  for label, x, y in zip(labels, x_coords, y_coords):\n",
        "      plt.annotate(label, xy=(x, y), xytext=(0, 0), textcoords='offset points')\n",
        "  plt.xlim(x_coords.min()+0.00005, x_coords.max()+0.00005)\n",
        "  plt.ylim(y_coords.min()+0.00005, y_coords.max()+0.00005)\n",
        "  plt.show()"
      ],
      "execution_count": 0,
      "outputs": []
    },
    {
      "cell_type": "code",
      "metadata": {
        "id": "Arf4Bs6ufL50",
        "colab_type": "code",
        "colab": {
          "base_uri": "https://localhost:8080/",
          "height": 328
        },
        "outputId": "0c025d1a-f9bd-48a3-84b9-98602c2ac760"
      },
      "source": [
        "positive_words = ['good', 'better', 'best', 'excellent', 'fascinating']\n",
        "negative_words = ['bad', 'worse', 'worst', 'horrible', 'painful']\n",
        "labels = positive_words + negative_words\n",
        "sentiments = len(positive_words)*['POSITIVE'] + len(negative_words)*['NEGATIVE']\n",
        "vectors = [word2vec[w] for w in labels]\n",
        "displaySentimentPlot(labels, sentiments, vectors)"
      ],
      "execution_count": 8,
      "outputs": [
        {
          "output_type": "display_data",
          "data": {
            "image/png": "[encoded data removed]",
            "text/plain": [
              "<Figure size 360x360 with 1 Axes>"
            ]
          },
          "metadata": {
            "tags": []
          }
        }
      ]
    },
    {
      "cell_type": "markdown",
      "metadata": {
        "id": "9fSGkKsB4wmC",
        "colab_type": "text"
      },
      "source": [
        "## Define function to compute mean embedding vector of words in translated comment"
      ]
    },
    {
      "cell_type": "code",
      "metadata": {
        "id": "v7gf_wJy5Ivv",
        "colab_type": "code",
        "colab": {}
      },
      "source": [
        "def mean_vector(comment):\n",
        "  \"\"\"returns mean of vector representation words in text.\n",
        "  returns a vector of zeros if none of the words appear in vocabulary \"\"\"\n",
        "  words = [w for w in comment.split() if w in vocabulary] # valid words\n",
        "  if not words: return np.zeros((embedding_size,), dtype=\"float32\") # no word  \n",
        "  return np.mean([word2vec[w] for w in words], axis=0)"
      ],
      "execution_count": 0,
      "outputs": []
    },
    {
      "cell_type": "markdown",
      "metadata": {
        "id": "UR_wBO4k6Xcx",
        "colab_type": "text"
      },
      "source": [
        "## Retreive pre-trained model for sentiment classification\n",
        "- **First upload the file \"SA.model.weights.hdf5\" containing pre-trained weights for a neural net.**"
      ]
    },
    {
      "cell_type": "code",
      "metadata": {
        "id": "VsGsuCFw6X4o",
        "colab_type": "code",
        "outputId": "f3a2807e-bdf6-448a-a577-a575d8c75b74",
        "colab": {
          "base_uri": "https://localhost:8080/",
          "height": 289
        }
      },
      "source": [
        "# This model is a single layered neural network \n",
        "# trained using IMDB sentiment analysis data set.\n",
        "\n",
        "def getSAmodel(weights_file):\n",
        "  \"\"\"Returns trained single layered network\"\"\"\n",
        "  model = tf.keras.models.Sequential([\n",
        "      tf.keras.layers.Flatten(input_shape=(300,)),\n",
        "      tf.keras.layers.Dense(32, activation=tf.nn.relu),\n",
        "      tf.keras.layers.Dropout(0.2),\n",
        "      tf.keras.layers.Dense(2, activation=tf.nn.softmax)])\n",
        "  model.compile(optimizer='adam',\n",
        "                loss='sparse_categorical_crossentropy',\n",
        "                metrics=['accuracy'])\n",
        "  model.load_weights(weights_file)\n",
        "  return model\n",
        "\n",
        "weights_file = \"SA.model.weights.hdf5\" \n",
        "model = getSAmodel(weights_file)\n",
        "print(\"Pre-trained model:\")\n",
        "model.summary()"
      ],
      "execution_count": 13,
      "outputs": [
        {
          "output_type": "stream",
          "text": [
            "Pre-trained model:\n",
            "_________________________________________________________________\n",
            "Layer (type)                 Output Shape              Param #   \n",
            "=================================================================\n",
            "flatten_3 (Flatten)          (None, 300)               0         \n",
            "_________________________________________________________________\n",
            "dense_6 (Dense)              (None, 32)                9632      \n",
            "_________________________________________________________________\n",
            "dropout_3 (Dropout)          (None, 32)                0         \n",
            "_________________________________________________________________\n",
            "dense_7 (Dense)              (None, 2)                 66        \n",
            "=================================================================\n",
            "Total params: 9,698\n",
            "Trainable params: 9,698\n",
            "Non-trainable params: 0\n",
            "_________________________________________________________________\n"
          ],
          "name": "stdout"
        }
      ]
    },
    {
      "cell_type": "markdown",
      "metadata": {
        "id": "kPJlciWI7hD1",
        "colab_type": "text"
      },
      "source": [
        "## Define function to classify comment"
      ]
    },
    {
      "cell_type": "code",
      "metadata": {
        "id": "pL_JjGFF75H7",
        "colab_type": "code",
        "colab": {}
      },
      "source": [
        "def sentiment_polarity(comment):\n",
        "  \"\"\"returns sentiment polarity and mean vector for comment \"\"\"\n",
        "  mean_v = mean_vector(translate(comment))\n",
        "  return model.predict(np.array([mean_v]))[0][1], mean_v"
      ],
      "execution_count": 0,
      "outputs": []
    },
    {
      "cell_type": "markdown",
      "metadata": {
        "id": "s8aHZPU81wP0",
        "colab_type": "text"
      },
      "source": [
        "## Classify user specified comment"
      ]
    },
    {
      "cell_type": "code",
      "metadata": {
        "id": "ySqWqo7i13z6",
        "colab_type": "code",
        "outputId": "5a6e6840-ee65-4f23-b6fb-0cb55c7ae2b4",
        "colab": {
          "base_uri": "https://localhost:8080/",
          "height": 102
        }
      },
      "source": [
        "comment = input(\"Type in a comment (in any language): \") # input comment in any language\n",
        "score, _ = sentiment_polarity(comment) # compute polarity score\n",
        "sentiment = 'POSITIVE' if score > 0.5 else 'NEGATIVE'\n",
        "print(\"\\nYour comment: \\'%s\\' \\n\\texpresses a %s sentiment \\n\\t(score = %4.4f)\"\n",
        "     %(comment, sentiment, score))"
      ],
      "execution_count": 19,
      "outputs": [
        {
          "output_type": "stream",
          "text": [
            "Type in a comment (in any language): I fear this boring workshop will drag on for another hour\n",
            "\n",
            "Your comment: 'I fear this boring workshop will drag on for another hour' \n",
            "\texpresses a NEGATIVE sentiment \n",
            "\t(score = 0.0000)\n"
          ],
          "name": "stdout"
        }
      ]
    }
  ]
}